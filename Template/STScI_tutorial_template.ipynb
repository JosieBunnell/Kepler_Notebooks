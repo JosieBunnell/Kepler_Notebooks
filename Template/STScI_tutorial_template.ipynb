{
 "cells": [
  {
   "cell_type": "markdown",
   "metadata": {},
   "source": [
    "<a id=\"title_ID\"></a>\n",
    "# STScI Notebook Tutorial Template/Style Guide\n",
    "<p style=\"color:#808080\">*This notebook outlines a framework for STScI Jupyter Notebook tutorials. Notebooks released under STScI should follow the layout and organization set in this guide.*</p>\n",
    "\n",
    "Use this section to describe the intention of this notebook and what the user will be producing. It should be short and concise (1-2 sentences) to give an idea of what this notebook is about.\n",
    "\n",
    "<img style=\"float: right;\" src=\"./assets/nasa_logo.png\" alt=\"nasa_logo\" width=\"400px\"/> \n",
    "<img style=\"float: right;\" src=\"./assets/mast_logo.jpg\" alt=\"mast_logo\" width=\"200px\"/> \n",
    "### Table of Contents\n",
    "<div style=\"text-align: left\"> <br> [Introduction](#intro_ID) <br> [Imports](#imports_ID) <br> [Getting the Data](#data_ID) <br> [File Information](#fileinfo_ID) <br> [Plotting/Displaying](#plot_ID) <br> [Additional Resources](#resources_ID) <br> [About this Notebook](#about_ID) </div>\n",
    "\n",
    "<br>\n",
    "<p style=\"color:#808080\">*Above is a general Table of Contents outline that can be changed/added to as needed. All notebooks ideally should at least include the following sections: Introduction, Imports, Data Retrieval, Additional Resources, and About this Notebook. Also, while not necessary, it is helpful to include an image (or multiple) of a plot or diagram created in the tutorial as a preview for the user. The NASA and MAST logos acts as placeholders here for this purpose.*</p>"
   ]
  },
  {
   "cell_type": "markdown",
   "metadata": {
    "slideshow": {
     "slide_type": "-"
    }
   },
   "source": [
    "***"
   ]
  },
  {
   "cell_type": "markdown",
   "metadata": {},
   "source": [
    "<a id=\"intro_ID\"></a>\n",
    "## Introduction\n",
    "\n",
    "**Some background:**\n",
    "<p style=\"color:#808080\">*Use this section to provide some background information about the file, data, plot, celestial object, etc. that is a feature part of this notebook. Again, try to keep this to a few sentences if possible and use external links below to provide more detailed information if necessary.*</p> \n",
    "\n",
    "**Defining some terms:**\n",
    "<p style=\"color:#808080\">*Use this section to explain some jargon that might not already be clear to the user of this notebook. Brief definitions are ideal with external links to more information provided at the bottom if necessary. The notebook should be accessible to a range of experience levels, including users who are not familiar with the data or science featured here. This section is where they can learn quick pieces of contextual information for the rest of the tutorial. * </p>\n",
    " - **An example word:** Insert definition here. \n",
    " - **An example acronym:** Insert definition here. \n",
    " - **Another word:** Insert definition here. \n",
    "\n",
    "For more information about the {*subject of this notebook*} or {*any of the above definitions*}, visit [{this source}](insert URL here). Feel free to add more links as well if relevant."
   ]
  },
  {
   "cell_type": "markdown",
   "metadata": {},
   "source": [
    "[Top of Page](#title_ID)"
   ]
  },
  {
   "cell_type": "markdown",
   "metadata": {},
   "source": [
    "***"
   ]
  },
  {
   "cell_type": "markdown",
   "metadata": {},
   "source": [
    "<a id=\"imports_ID\"></a>\n",
    "## Imports\n",
    "<p style=\"color:#808080\">*Here is an imports cell example. Remember that the user of this notebook may not have access to many third-party python packages. Make sure to state what the package does for this notebook*</p>\n",
    "\n",
    "Let's start by importing some libraries to the environment:\n",
    " \n",
    "- *astropy.io fits* for accessing FITS files\n",
    "- *astropy.table Table* for creating tidy tables of the data\n",
    "- *matplotlib* for plotting data"
   ]
  },
  {
   "cell_type": "code",
   "execution_count": 1,
   "metadata": {},
   "outputs": [],
   "source": [
    "from astropy.io import fits\n",
    "from astropy.table import Table \n",
    "import matplotlib.pyplot as plt"
   ]
  },
  {
   "cell_type": "markdown",
   "metadata": {},
   "source": [
    "[Top of Page](#title_ID)"
   ]
  },
  {
   "cell_type": "markdown",
   "metadata": {},
   "source": [
    "***"
   ]
  },
  {
   "cell_type": "markdown",
   "metadata": {},
   "source": [
    "<a id=\"data_ID\"></a>\n",
    "## Getting the Data\n",
    "<p style=\"color:#808080\">*If the user needs to download data to run the tutorial properly, use Astroquery to retrieve files. Here is an example query of a specific Kepler light curve file. Depending on the data for your tutorial, you may need to change the way this is queried (for example, by RA and Dec if the region of the sky is the most important trait of the file):*</p>\n",
    "\n",
    "Start by importing libraries from Astroquery. For a longer, more detailed description using of Astroquery, please visit this [tutorial](https://github.com/spacetelescope/MAST-API-Notebooks/blob/master/MUG2018_APITutorial_Astroquery.ipynb) or read the Astroquery [documentation](https://astroquery.readthedocs.io/en/latest/#). "
   ]
  },
  {
   "cell_type": "code",
   "execution_count": 3,
   "metadata": {},
   "outputs": [],
   "source": [
    "from astroquery.mast import Mast\n",
    "from astroquery.mast import Observations"
   ]
  },
  {
   "cell_type": "markdown",
   "metadata": {},
   "source": [
    "<br>Next, we need to find the data file. This is similar to searching for the data using the [MAST Portal](https://mast.stsci.edu/portal/Mashup/Clients/Mast/Portal.html) in that we will be using certain keywords to find the file. The target name of the object we are looking for is kplr011446443, collected by the Kepler spacecraft."
   ]
  },
  {
   "cell_type": "code",
   "execution_count": 4,
   "metadata": {},
   "outputs": [
    {
     "data": {
      "text/html": [
       "<i>Table masked=True length=1</i>\n",
       "<table id=\"table4499661824\" class=\"table-striped table-bordered table-condensed\">\n",
       "<thead><tr><th>obsID</th><th>obs_collection</th><th>dataproduct_type</th><th>obs_id</th><th>description</th><th>type</th><th>dataURI</th><th>productType</th><th>productGroupDescription</th><th>productSubGroupDescription</th><th>productDocumentationURL</th><th>project</th><th>prvversion</th><th>proposal_id</th><th>productFilename</th><th>size</th><th>parent_obsid</th></tr></thead>\n",
       "<thead><tr><th>str10</th><th>str6</th><th>str10</th><th>str36</th><th>str60</th><th>str1</th><th>str110</th><th>str9</th><th>str28</th><th>str1</th><th>str1</th><th>str6</th><th>str1</th><th>str7</th><th>str44</th><th>int64</th><th>str10</th></tr></thead>\n",
       "<tr><td>9000210988</td><td>Kepler</td><td>timeseries</td><td>kplr011446443_sc_Q113313330333033302</td><td>Lightcurve Short Cadence (CSC) - Q0</td><td>C</td><td>mast:Kepler/url/missions/kepler/lightcurves/0114/011446443/kplr011446443-2009131110544_slc.fits</td><td>SCIENCE</td><td>--</td><td>--</td><td>--</td><td>Kepler</td><td>--</td><td>EX_STKS</td><td>kplr011446443-2009131110544_slc.fits</td><td>1457280</td><td>9000210988</td></tr>\n",
       "</table>"
      ],
      "text/plain": [
       "<Table masked=True length=1>\n",
       "  obsID    obs_collection dataproduct_type ...   size  parent_obsid\n",
       "  str10         str6           str10       ...  int64     str10    \n",
       "---------- -------------- ---------------- ... ------- ------------\n",
       "9000210988         Kepler       timeseries ... 1457280   9000210988"
      ]
     },
     "execution_count": 4,
     "metadata": {},
     "output_type": "execute_result"
    }
   ],
   "source": [
    "keplerObs = Observations.query_criteria(target_name='kplr011446443', obs_collection='Kepler')\n",
    "keplerProds = Observations.get_product_list(keplerObs[1])\n",
    "yourProd = Observations.filter_products(keplerProds, extension='kplr011446443-2009131110544_slc.fits', \n",
    "                                        mrp_only=False)\n",
    "yourProd"
   ]
  },
  {
   "cell_type": "markdown",
   "metadata": {},
   "source": [
    "<br>Now that we've found the data file, we can download it using the reults shown in the table above:"
   ]
  },
  {
   "cell_type": "code",
   "execution_count": 5,
   "metadata": {},
   "outputs": [
    {
     "name": "stdout",
     "output_type": "stream",
     "text": [
      "Downloading URL https://mast.stsci.edu/api/v0/download/file?uri=mast:Kepler/url/missions/kepler/lightcurves/0114/011446443/kplr011446443-2009131110544_slc.fits to ./mastDownload/Kepler/kplr011446443_sc_Q113313330333033302/kplr011446443-2009131110544_slc.fits ... [Done]\n"
     ]
    },
    {
     "data": {
      "text/html": [
       "<i>Table length=1</i>\n",
       "<table id=\"table4499664232\" class=\"table-striped table-bordered table-condensed\">\n",
       "<thead><tr><th>Local Path</th><th>Status</th><th>Message</th><th>URL</th></tr></thead>\n",
       "<thead><tr><th>str95</th><th>str8</th><th>object</th><th>object</th></tr></thead>\n",
       "<tr><td>./mastDownload/Kepler/kplr011446443_sc_Q113313330333033302/kplr011446443-2009131110544_slc.fits</td><td>COMPLETE</td><td>None</td><td>None</td></tr>\n",
       "</table>"
      ],
      "text/plain": [
       "<Table length=1>\n",
       "                                           Local Path                                           ...\n",
       "                                             str95                                              ...\n",
       "----------------------------------------------------------------------------------------------- ...\n",
       "./mastDownload/Kepler/kplr011446443_sc_Q113313330333033302/kplr011446443-2009131110544_slc.fits ..."
      ]
     },
     "execution_count": 5,
     "metadata": {},
     "output_type": "execute_result"
    }
   ],
   "source": [
    "Observations.download_products(yourProd, mrp_only = False, cache = False) "
   ]
  },
  {
   "cell_type": "markdown",
   "metadata": {},
   "source": [
    "<br>Click on the blue URL above to download the file. You are now ready to complete the rest of the notebook."
   ]
  },
  {
   "cell_type": "markdown",
   "metadata": {},
   "source": [
    "[Top of Page](#title_ID)"
   ]
  },
  {
   "cell_type": "markdown",
   "metadata": {},
   "source": [
    "***"
   ]
  },
  {
   "cell_type": "markdown",
   "metadata": {},
   "source": [
    "<a id=\"fileinfo_ID\"></a>\n",
    "## File Information\n",
    "<p style=\"color:#808080\">*This is a good place to talk about the data the user has just downloaded through Astroquery. Here is an example of some information related to the file downloaded in the previous section. Notice the renaming of the data file in the cell below, including the directory and path. This is important to include if the user has just downloaded data from Astroquery.*</p> \n",
    "<br>Now that we have the file, we can start working with the data. We will begin by assigning a shorter name to the file to make it easier to use. Then, using the info function from astropy.io.fits, we can see some information about the FITS Header Data Units:"
   ]
  },
  {
   "cell_type": "code",
   "execution_count": 6,
   "metadata": {
    "scrolled": true
   },
   "outputs": [
    {
     "name": "stdout",
     "output_type": "stream",
     "text": [
      "Filename: ./mastDownload/Kepler/kplr011446443_sc_Q113313330333033302/kplr011446443-2009131110544_slc.fits\n",
      "No.    Name      Ver    Type      Cards   Dimensions   Format\n",
      "  0  PRIMARY       1 PrimaryHDU      58   ()      \n",
      "  1  LIGHTCURVE    1 BinTableHDU    155   14280R x 20C   [D, E, J, E, E, E, E, E, E, J, D, E, D, E, D, E, D, E, E, E]   \n",
      "  2  APERTURE      1 ImageHDU        48   (8, 9)   int32   \n"
     ]
    }
   ],
   "source": [
    "filename = \"./mastDownload/Kepler/kplr011446443_sc_Q113313330333033302/kplr011446443-2009131110544_slc.fits\"\n",
    "fits.info(filename)"
   ]
  },
  {
   "cell_type": "markdown",
   "metadata": {},
   "source": [
    " - **No. 0 (Primary): **\n",
    " <br>This HDU contains meta-data related to the entire file.\n",
    " - **No. 1 (Light curve): **\n",
    " <br>This HDU contains a binary table that holds data like flux measurements and times. We will extract information from here when we define the parameters for the light curve plot.\n",
    " - **No. 2 (Aperture): **\n",
    " <br>This HDU contains the image extension with data collected from the aperture. We will also use this to display a bitmask plot that visually represents the optimal aperture used to create the SAP_FLUX column in HDU1.\n",
    "\n",
    "For more detailed information about header extensions, look [here](https://archive.stsci.edu/kepler/manuals/archive_manual.pdf#page=17)."
   ]
  },
  {
   "cell_type": "markdown",
   "metadata": {},
   "source": [
    "[Top of Page](#title_ID)"
   ]
  },
  {
   "cell_type": "markdown",
   "metadata": {},
   "source": [
    "***"
   ]
  },
  {
   "cell_type": "markdown",
   "metadata": {},
   "source": [
    "<a id=\"plot_ID\"></a>\n",
    "## Plotting/Displaying\n",
    "<br><font color=gray>*Now that the user has downloaded data, they can plot, display or access whatever information is relevant to the tutorial. Depending on the goal of this notebook, this section might be split into several different sections that walk through different steps.*</font>\n",
    "<br><font color=gray><br>*Some things to consider when writing this section:*</font>\n",
    "\n",
    "- <font color=gray>*This is main point of the notebook! All the previous parts build up to this and should be referenced as such.*</font>\n",
    "- <font color=gray>*Break up code into clear steps using text markdown as explanations for what happens in the code lines.*</font> \n",
    "- <font color=gray>*Clearly explain where the data is coming from that is being displayed or manipulated. For example: how did you access certain columns of data to make a plot?*</font>\n",
    "- <font color=gray>*STScI notebooks follow the [PEP8 style guide](https://www.python.org/dev/peps/pep-0008/) for best python practices.*</font>"
   ]
  },
  {
   "cell_type": "markdown",
   "metadata": {},
   "source": [
    "[Top of Page](#title_ID)"
   ]
  },
  {
   "cell_type": "markdown",
   "metadata": {},
   "source": [
    "***"
   ]
  },
  {
   "cell_type": "markdown",
   "metadata": {},
   "source": [
    "<a id=\"resources_ID\"></a>\n",
    "## Additional Resources\n",
    "<p style=\"color:#808080\">*This is a good place to provide the user with further reading (relevant sites, journals, articles, etc.). Here is an example list related to the Kepler data shown earlier:*</p>\n",
    "\n",
    "For more information about the MAST archive and details about mission data:\n",
    "<br>\n",
    "<br>[MAST API](https://mast.stsci.edu/api/v0/index.html)\n",
    "<br>[Kepler Archive Page (MAST)](https://archive.stsci.edu/kepler/)\n",
    "<br>[Kepler Archive Manual](https://archive.stsci.edu/kepler/manuals/archive_manual.pdf)\n",
    "<br>[Exo.MAST website](https://exo.mast.stsci.edu/exo/ExoMast/html/exomast.html)\n",
    "\n"
   ]
  },
  {
   "cell_type": "markdown",
   "metadata": {},
   "source": [
    "***"
   ]
  },
  {
   "cell_type": "markdown",
   "metadata": {},
   "source": [
    "<a id=\"about_ID\"></a>\n",
    "## About this Notebook\n",
    "**Author:** \n",
    "<br>**Updated On:** MM/DD/YYYY"
   ]
  },
  {
   "cell_type": "markdown",
   "metadata": {},
   "source": [
    "***"
   ]
  },
  {
   "cell_type": "markdown",
   "metadata": {},
   "source": [
    "[Top of Page](#title_ID)\n",
    "<img style=\"float: right;\" src=\"./assets/stsci_pri_combo_mark_horizonal_white_bkgd.png\" alt=\"stsci_pri_combo_mark_horizonal_white_bkgd\" width=\"200px\"/> "
   ]
  }
 ],
 "metadata": {
  "kernelspec": {
   "display_name": "Python 3",
   "language": "python",
   "name": "python3"
  },
  "language_info": {
   "codemirror_mode": {
    "name": "ipython",
    "version": 3
   },
   "file_extension": ".py",
   "mimetype": "text/x-python",
   "name": "python",
   "nbconvert_exporter": "python",
   "pygments_lexer": "ipython3",
   "version": "3.6.5"
  }
 },
 "nbformat": 4,
 "nbformat_minor": 2
}
